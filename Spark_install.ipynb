{
 "cells": [
  {
   "cell_type": "markdown",
   "metadata": {},
   "source": [
    "# Spark installation source code for google colab (.ipynb)\n",
    "\n",
    "### Disclaimer:\n",
    "\n",
    "Spark is frequently update the version and when updated,\n",
    "some line cannot be executed.\n",
    "\n",
    "To fix this, change the Saprk version to the latest and try again.\n"
   ]
  },
  {
   "cell_type": "markdown",
   "metadata": {},
   "source": [
    "You can find the Spark compatible version here:\n",
    "https://spark.apache.org/downloads.html"
   ]
  },
  {
   "cell_type": "code",
   "execution_count": null,
   "metadata": {},
   "outputs": [],
   "source": [
    "# TO-DO: change the VERSION_NUMBER to the lasted one\n",
    "# then, copy source code and place to the assignment file\n",
    "\n",
    "# annoucement param\n",
    "VERSION_NUMBER = \"3.5.4\"\n",
    "\n",
    "# check for upgradable packages\n",
    "!apt update\n",
    "\n",
    "# install java\n",
    "!apt-get install openjdk-11-jdk-headless -qq > /dev/null\n",
    "\n",
    "!wget -q https://dlcdn.apache.org/spark/spark-{VERSION_NUMBER}/spark-{VERSION_NUMBER}-bin-hadoop3.tgz \n",
    "\n",
    "# unzip the spark file to the current folder\n",
    "!tar -xf spark-{VERSION_NUMBER}-bin-hadoop3.tgz\n",
    "\n",
    "# to remove Spark.tgz file\n",
    "!rm -rf spark-{VERSION_NUMBER}-bin-hadoop3.tgz\n",
    "\n",
    "# install findspark using pip\n",
    "!pip install -q findspark\n",
    "!pip install -q pyspark\n",
    "\n",
    "# set your spark folder to your system path environment.\n",
    "import os\n",
    "\n",
    "os.environ[\"JAVA_HOME\"] = \"/usr/lib/jvm/java-11-openjdk-amd64\"\n",
    "os.environ[\"SPARK_HOME\"] = f\"/content/spark-{VERSION_NUMBER}-bin-hadoop3\""
   ]
  },
  {
   "cell_type": "code",
   "execution_count": null,
   "metadata": {},
   "outputs": [],
   "source": [
    "# create SparkContext\n",
    "from pyspark import SparkContext\n",
    "import findspark\n",
    "\n",
    "findspark.init()\n",
    "sc = SparkContext.getOrCreate()\n",
    "sc"
   ]
  }
 ],
 "metadata": {
  "language_info": {
   "name": "python"
  }
 },
 "nbformat": 4,
 "nbformat_minor": 2
}
